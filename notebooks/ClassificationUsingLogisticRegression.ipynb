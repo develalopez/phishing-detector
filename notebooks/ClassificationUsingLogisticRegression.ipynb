{
 "cells": [
  {
   "cell_type": "markdown",
   "id": "a017e1c1",
   "metadata": {},
   "source": [
    "# Classification using Logistic Regression\n",
    "\n",
    "For the phishing detection machine leraning algorithm, we are going to implement the supervised algorithm **Logistic Regression** that is used for Clasiffication. \n",
    "\n",
    "**Logistic Regression** is useful when we have multiple features that can adopt a limited number of categories in our case only 2 (legitimate or phishing).\n",
    "\n",
    "Our main data set can be found in the following url : https://www.kaggle.com/shashwatwork/web-page-phishing-detection-dataset.\n",
    "\n",
    "In our analysis we can identify the following features that could have more impact in the decision if an URL is malicious :\n",
    "\n",
    "- Phish_hints\n",
    "- Abnormal_subdomain \n",
    "- Nb_external_redirection\n",
    "- Longest_word_raw\n",
    "- Longest_word_host\n",
    "- suspecious_tld\n",
    "- Dns_record\n",
    "\n",
    "So for training our algorithm we are going to use only that features and we are going to use the 80% of the dataset. The remaining 20% will be used for predictions.\n",
    "\n",
    "## Model Creation\n",
    "\n",
    "#### First, we are going to import that will beuse (pandas, numpy, sklearn) and then read our training dataset:"
   ]
  },
  {
   "cell_type": "code",
   "execution_count": 1,
   "id": "8a31f2bb",
   "metadata": {},
   "outputs": [],
   "source": [
    "import pandas as pd\n",
    "import numpy as np\n",
    "from sklearn import linear_model\n",
    "\n",
    "input_file = \"DataSetTraining.csv\"\n",
    "dataframe = pd.read_csv(input_file, header=0)"
   ]
  },
  {
   "cell_type": "markdown",
   "id": "aa172878",
   "metadata": {},
   "source": [
    "Also we can now how many records are by each category: "
   ]
  },
  {
   "cell_type": "code",
   "execution_count": 2,
   "id": "61529b93",
   "metadata": {},
   "outputs": [
    {
     "name": "stdout",
     "output_type": "stream",
     "text": [
      "status\n",
      "legitimate    4572\n",
      "phishing      4572\n",
      "dtype: int64\n"
     ]
    }
   ],
   "source": [
    "print(dataframe.groupby('status').size())"
   ]
  },
  {
   "cell_type": "markdown",
   "id": "e8589efa",
   "metadata": {},
   "source": [
    "#### We build our array of features and results (\"X_training\" & \"y_training\"):"
   ]
  },
  {
   "cell_type": "code",
   "execution_count": 3,
   "id": "2853d93a",
   "metadata": {},
   "outputs": [],
   "source": [
    "X_training = np.array(dataframe.drop(columns='status'))\n",
    "y_training = np.array(dataframe['status'])"
   ]
  },
  {
   "cell_type": "markdown",
   "id": "bdf4a1bd",
   "metadata": {},
   "source": [
    "#### We create the Logistic Regression model and then our input set \"X_training\" will fit to our output \"y_training\":"
   ]
  },
  {
   "cell_type": "code",
   "execution_count": 4,
   "id": "0510ab60",
   "metadata": {},
   "outputs": [
    {
     "data": {
      "text/plain": [
       "LogisticRegression()"
      ]
     },
     "execution_count": 4,
     "metadata": {},
     "output_type": "execute_result"
    }
   ],
   "source": [
    "model = linear_model.LogisticRegression()\n",
    "model.fit(X_training,y_training)"
   ]
  },
  {
   "cell_type": "markdown",
   "id": "3e8a3067",
   "metadata": {},
   "source": [
    "#### Once our model is ready, we load the prediction data set and then clasify all our input set \"X_prediction\":"
   ]
  },
  {
   "cell_type": "code",
   "execution_count": 5,
   "id": "a8d48df4",
   "metadata": {},
   "outputs": [],
   "source": [
    "dataframeP = pd.read_csv(r\"DataSetPrediction.csv\")\n",
    "X_prediction = np.array(dataframeP.drop(columns='status'))\n",
    "y_prediction = np.array(dataframeP['status'])\n",
    "predictions = model.predict(X_prediction)"
   ]
  },
  {
   "cell_type": "markdown",
   "id": "14488ea7",
   "metadata": {},
   "source": [
    "#### Finally we can validate the model accuracy: "
   ]
  },
  {
   "cell_type": "code",
   "execution_count": 6,
   "id": "6df17c66",
   "metadata": {},
   "outputs": [
    {
     "name": "stdout",
     "output_type": "stream",
     "text": [
      "0.7510936132983377\n"
     ]
    }
   ],
   "source": [
    "print(model.score(X_prediction,y_prediction))"
   ]
  },
  {
   "cell_type": "markdown",
   "id": "7a7a1482",
   "metadata": {},
   "source": [
    "#### Also we can evaluate the performance of the machine learning model with a confusion matrix:\n",
    "\n",
    "The matrix show us how many time the algorithm was wrong and also, we can watch it in a table with a classification report, where we can identify the algorithm accuracy for each category (Legitimate or Phishing)."
   ]
  },
  {
   "cell_type": "code",
   "execution_count": 7,
   "id": "ef91093d",
   "metadata": {},
   "outputs": [
    {
     "name": "stdout",
     "output_type": "stream",
     "text": [
      "[[1033  110]\n",
      " [ 459  684]]\n",
      "              precision    recall  f1-score   support\n",
      "\n",
      "  legitimate       0.69      0.90      0.78      1143\n",
      "    phishing       0.86      0.60      0.71      1143\n",
      "\n",
      "    accuracy                           0.75      2286\n",
      "   macro avg       0.78      0.75      0.75      2286\n",
      "weighted avg       0.78      0.75      0.75      2286\n",
      "\n"
     ]
    }
   ],
   "source": [
    "from sklearn.metrics import confusion_matrix\n",
    "from sklearn.metrics import classification_report\n",
    "\n",
    "print(confusion_matrix(y_prediction, predictions))\n",
    "print(classification_report(y_prediction, predictions))"
   ]
  }
 ],
 "metadata": {
  "kernelspec": {
   "display_name": "Python 3 (ipykernel)",
   "language": "python",
   "name": "python3"
  },
  "language_info": {
   "codemirror_mode": {
    "name": "ipython",
    "version": 3
   },
   "file_extension": ".py",
   "mimetype": "text/x-python",
   "name": "python",
   "nbconvert_exporter": "python",
   "pygments_lexer": "ipython3",
   "version": "3.10.2"
  }
 },
 "nbformat": 4,
 "nbformat_minor": 5
}
