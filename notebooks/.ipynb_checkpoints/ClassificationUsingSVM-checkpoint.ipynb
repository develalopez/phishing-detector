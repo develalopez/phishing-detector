{
 "cells": [
  {
   "cell_type": "markdown",
   "id": "a5f0a0a7",
   "metadata": {},
   "source": [
    "# Classification using Support Vector Machines\n",
    "\n",
    "For this phishing detetection machine learning algorithm, we are going to use the Support Vector Machines method. This is especcialy good taking into account that this dataaset has a lot of dimensions and SVMs are especcially effective in those cases.\n",
    "\n",
    "\n",
    "Our main data set can be found in the following url : https://www.kaggle.com/shashwatwork/web-page-phishing-detection-dataset.\n",
    "\n",
    "In our analysis we can identify the following features that could have more impact in the decision if an URL is malicious :\n",
    "\n",
    "- phish_hints\n",
    "- abnormal_subdomain \n",
    "- nb_external_redirection\n",
    "- longest_words_raw\n",
    "- longest_word_host\n",
    "- suspecious_tld\n",
    "- dns_record\n",
    "\n",
    "The first thing we have to do is importing and fixing the data, removing dimensions that may not be valuable for classification. For data management we are using `pandas`' DataFrames."
   ]
  },
  {
   "cell_type": "code",
   "execution_count": 1,
   "id": "8044c96b",
   "metadata": {},
   "outputs": [],
   "source": [
    "import numpy as np\n",
    "import pandas as pd"
   ]
  },
  {
   "cell_type": "markdown",
   "id": "e8810aba",
   "metadata": {},
   "source": [
    "First we import the training dataset:"
   ]
  },
  {
   "cell_type": "code",
   "execution_count": 2,
   "id": "f92c5648",
   "metadata": {
    "scrolled": true
   },
   "outputs": [],
   "source": [
    "training_data = \"../DataSetTraining.csv\"\n",
    "fdf = pd.read_csv(training_data, header=0)"
   ]
  },
  {
   "cell_type": "markdown",
   "id": "c9257973",
   "metadata": {},
   "source": [
    "And then we import the testing dataset:"
   ]
  },
  {
   "cell_type": "code",
   "execution_count": 3,
   "id": "c2e82484",
   "metadata": {},
   "outputs": [],
   "source": [
    "testing_data = \"../DataSetTesting.csv\"\n",
    "tdf = pd.read_csv(testing_data, header=0)"
   ]
  },
  {
   "cell_type": "markdown",
   "id": "97991e84",
   "metadata": {},
   "source": [
    "Then, we import the SVM functions from the `sklearn` library. As you can see, we are going to use the `SVC` (C-Support Vector Classification), which is effective as this dataset does not reach the tens of thousands of samples and therefore does not lose efficiency.\n",
    "\n",
    "We fit the model using a portion of the dataset:"
   ]
  },
  {
   "cell_type": "code",
   "execution_count": 4,
   "id": "92ff5e04",
   "metadata": {
    "scrolled": true
   },
   "outputs": [],
   "source": [
    "from sklearn import svm\n",
    "\n",
    "training_X, training_y = np.array(fdf.drop(columns = 'status')), np.array(fdf['status'])\n",
    "classifier = svm.SVC(kernel = \"linear\").fit(training_X, training_y)"
   ]
  },
  {
   "cell_type": "markdown",
   "id": "e0782403",
   "metadata": {},
   "source": [
    "After fitting the model, we make predictions on the rest of the dataset:"
   ]
  },
  {
   "cell_type": "code",
   "execution_count": 5,
   "id": "e6182992",
   "metadata": {
    "scrolled": true
   },
   "outputs": [],
   "source": [
    "testing_X, testing_y = np.array(tdf.drop(columns = 'status')), np.array(tdf['status'])\n",
    "results = classifier.predict(testing_X)"
   ]
  },
  {
   "cell_type": "markdown",
   "id": "a89d19c0",
   "metadata": {},
   "source": [
    "Then, using the `status` column from the original dataset, we evaluate the model's accuracy:"
   ]
  },
  {
   "cell_type": "code",
   "execution_count": 6,
   "id": "9e63a923",
   "metadata": {
    "scrolled": false
   },
   "outputs": [
    {
     "name": "stdout",
     "output_type": "stream",
     "text": [
      "Model's accuracy: 71.87%\n"
     ]
    }
   ],
   "source": [
    "print(\"Model's accuracy: {:2.2f}%\".format(classifier.score(testing_X, testing_y) * 100))"
   ]
  },
  {
   "cell_type": "code",
   "execution_count": 7,
   "id": "bc35490e",
   "metadata": {},
   "outputs": [
    {
     "name": "stdout",
     "output_type": "stream",
     "text": [
      "Confusion matrix, without normalization\n",
      "[[1083   60]\n",
      " [ 583  560]]\n",
      "Normalized confusion matrix\n",
      "[[0.95 0.05]\n",
      " [0.51 0.49]]\n"
     ]
    },
    {
     "data": {
      "image/png": "[encoded data removed]",
      "text/plain": [
       "<Figure size 432x288 with 2 Axes>"
      ]
     },
     "metadata": {
      "needs_background": "light"
     },
     "output_type": "display_data"
    },
    {
     "data": {
      "image/png": "[encoded data removed]",
      "text/plain": [
       "<Figure size 432x288 with 2 Axes>"
      ]
     },
     "metadata": {
      "needs_background": "light"
     },
     "output_type": "display_data"
    }
   ],
   "source": [
    "import matplotlib.pyplot as plt\n",
    "from sklearn.metrics import ConfusionMatrixDisplay\n",
    "\n",
    "np.set_printoptions(precision=2)\n",
    "\n",
    "titles_options = [\n",
    "    (\"Confusion matrix, without normalization\", None),\n",
    "    (\"Normalized confusion matrix\", \"true\"),\n",
    "]\n",
    "\n",
    "class_names = [\"legitimate\", \"phishing\"]\n",
    "\n",
    "for title, normalize in titles_options:\n",
    "    disp = ConfusionMatrixDisplay.from_estimator(\n",
    "        classifier,\n",
    "        testing_X,\n",
    "        testing_y,\n",
    "        display_labels = class_names,\n",
    "        cmap = plt.cm.Greens,\n",
    "        normalize = normalize,\n",
    "    )\n",
    "    disp.ax_.set_title(title)\n",
    "\n",
    "    print(title)\n",
    "    print(disp.confusion_matrix)"
   ]
  }
 ],
 "metadata": {
  "kernelspec": {
   "display_name": "Python 3 (ipykernel)",
   "language": "python",
   "name": "python3"
  },
  "language_info": {
   "codemirror_mode": {
    "name": "ipython",
    "version": 3
   },
   "file_extension": ".py",
   "mimetype": "text/x-python",
   "name": "python",
   "nbconvert_exporter": "python",
   "pygments_lexer": "ipython3",
   "version": "3.9.9"
  }
 },
 "nbformat": 4,
 "nbformat_minor": 5
}
