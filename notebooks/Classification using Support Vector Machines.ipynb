{
 "cells": [
  {
   "cell_type": "markdown",
   "id": "a5f0a0a7",
   "metadata": {},
   "source": [
    "# Classification using Support Vector Machines\n",
    "\n",
    "For this phishing detetection machine learning algorithm, we are going to use the Support Vector Machines method. This is especcialy good taking into account that this dataaset has a lot of dimensions and SVMs are especcially effective in those cases.\n",
    "\n",
    "The first thing we have to do is importing and fixing the data, removing dimensions that may not be valuable for classification. For data management we are using `pandas`' DataFrames."
   ]
  },
  {
   "cell_type": "code",
   "execution_count": 177,
   "id": "f92c5648",
   "metadata": {},
   "outputs": [],
   "source": [
    "import numpy as np\n",
    "import pandas as pd\n",
    "\n",
    "input_file = \"dataset_phishing.csv\"\n",
    "df = pd.read_csv(input_file, header = 0)\n",
    "original_headers = list(df.columns.values)\n",
    "ndf = df._get_numeric_data()\n",
    "numeric_headers = list(ndf.columns.values)\n",
    "cdf = ndf[['phish_hints', 'abnormal_subdomain', 'nb_external_redirection', 'longest_words_raw', 'longest_word_host', 'suspecious_tld', 'dns_record']]"
   ]
  },
  {
   "cell_type": "markdown",
   "id": "97991e84",
   "metadata": {},
   "source": [
    "Then, we import the SVM functions from the `sklearn` library. As you can see, we are going to use the `SVC` (C-Support Vector Classification), which is effective as this dataset does not reach the tens of thousands of samples and therefore does not lose efficiency.\n",
    "\n",
    "We fit the model using a portion of the dataset:"
   ]
  },
  {
   "cell_type": "code",
   "execution_count": 174,
   "id": "92ff5e04",
   "metadata": {
    "scrolled": true
   },
   "outputs": [
    {
     "data": {
      "text/plain": [
       "SVC()"
      ]
     },
     "execution_count": 174,
     "metadata": {},
     "output_type": "execute_result"
    }
   ],
   "source": [
    "from sklearn import svm\n",
    "\n",
    "X, y = cdf, df.status\n",
    "clf = svm.SVC()\n",
    "clf.fit(X[:4000], y[:4000])"
   ]
  },
  {
   "cell_type": "markdown",
   "id": "e0782403",
   "metadata": {},
   "source": [
    "After fitting the model, we make predictions on the rest of the dataset:"
   ]
  },
  {
   "cell_type": "code",
   "execution_count": 175,
   "id": "e6182992",
   "metadata": {},
   "outputs": [],
   "source": [
    "results = pd.DataFrame(clf.predict(X[4000:]))\n",
    "results.rename(columns={0: 'status'}, inplace=True)"
   ]
  },
  {
   "cell_type": "markdown",
   "id": "a89d19c0",
   "metadata": {},
   "source": [
    "Then, using the `status` column from the original dataset, we evaluate the model's accuracy:"
   ]
  },
  {
   "cell_type": "code",
   "execution_count": 176,
   "id": "9e63a923",
   "metadata": {
    "scrolled": true
   },
   "outputs": [
    {
     "name": "stdout",
     "output_type": "stream",
     "text": [
      "69.52%\n"
     ]
    }
   ],
   "source": [
    "expected = y[4000:].reset_index()\n",
    "expected.drop('index', axis=1, inplace=True)\n",
    "comparison = expected.compare(results)\n",
    "precision = ((len(results) - len(comparison)) / len(results)) * 100\n",
    "print(\"{:4.2f}%\".format(precision))"
   ]
  }
 ],
 "metadata": {
  "kernelspec": {
   "display_name": "Python 3 (ipykernel)",
   "language": "python",
   "name": "python3"
  },
  "language_info": {
   "codemirror_mode": {
    "name": "ipython",
    "version": 3
   },
   "file_extension": ".py",
   "mimetype": "text/x-python",
   "name": "python",
   "nbconvert_exporter": "python",
   "pygments_lexer": "ipython3",
   "version": "3.9.9"
  }
 },
 "nbformat": 4,
 "nbformat_minor": 5
}
